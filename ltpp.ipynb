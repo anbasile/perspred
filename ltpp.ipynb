{
 "cells": [
  {
   "cell_type": "code",
   "execution_count": 9,
   "metadata": {
    "collapsed": true
   },
   "outputs": [],
   "source": [
    "from src import dataset\n",
    "from collections import defaultdict\n",
    "import pandas as pd\n",
    "import logging\n",
    "from sklearn.svm import LinearSVR\n",
    "from sklearn.pipeline import Pipeline\n",
    "from sklearn.feature_extraction.text import TfidfVectorizer\n",
    "from sklearn.model_selection import cross_val_score\n",
    "logging.getLogger().setLevel(logging.INFO)"
   ]
  },
  {
   "cell_type": "code",
   "execution_count": 3,
   "metadata": {},
   "outputs": [
    {
     "data": {
      "text/html": [
       "<div>\n",
       "<table border=\"1\" class=\"dataframe\">\n",
       "  <thead>\n",
       "    <tr style=\"text-align: right;\">\n",
       "      <th></th>\n",
       "      <th>author</th>\n",
       "      <th>lang</th>\n",
       "      <th>text</th>\n",
       "      <th>gender</th>\n",
       "      <th>age</th>\n",
       "      <th>ext</th>\n",
       "      <th>sta</th>\n",
       "      <th>agr</th>\n",
       "      <th>con</th>\n",
       "      <th>opn</th>\n",
       "    </tr>\n",
       "  </thead>\n",
       "  <tbody>\n",
       "    <tr>\n",
       "      <th>0</th>\n",
       "      <td>e5b59ccc-2053-4e8b-ba11-dfeeff92dd5d</td>\n",
       "      <td>en</td>\n",
       "      <td>@username @username ay friend, q te fumasteSSS...</td>\n",
       "      <td>F</td>\n",
       "      <td>35-49</td>\n",
       "      <td>0.0</td>\n",
       "      <td>0.2</td>\n",
       "      <td>0.2</td>\n",
       "      <td>0.3</td>\n",
       "      <td>0.2</td>\n",
       "    </tr>\n",
       "    <tr>\n",
       "      <th>1</th>\n",
       "      <td>ed970294-8f36-4008-a82e-183ac9abf6ac</td>\n",
       "      <td>en</td>\n",
       "      <td>“@username: @username \"you can't have your cak...</td>\n",
       "      <td>M</td>\n",
       "      <td>18-24</td>\n",
       "      <td>0.1</td>\n",
       "      <td>0.2</td>\n",
       "      <td>0.2</td>\n",
       "      <td>0.0</td>\n",
       "      <td>0.1</td>\n",
       "    </tr>\n",
       "    <tr>\n",
       "      <th>2</th>\n",
       "      <td>4b05f4e0-2b12-48f1-94c0-c55b4caf534c</td>\n",
       "      <td>en</td>\n",
       "      <td>I should probably go to bed considering I have...</td>\n",
       "      <td>F</td>\n",
       "      <td>18-24</td>\n",
       "      <td>0.5</td>\n",
       "      <td>0.0</td>\n",
       "      <td>0.3</td>\n",
       "      <td>0.3</td>\n",
       "      <td>0.4</td>\n",
       "    </tr>\n",
       "    <tr>\n",
       "      <th>3</th>\n",
       "      <td>de7f0515-32b0-4b1e-9fb9-91a66cd434a3</td>\n",
       "      <td>en</td>\n",
       "      <td>@username the sameee\\n@username Great!!\\nRT @u...</td>\n",
       "      <td>M</td>\n",
       "      <td>25-34</td>\n",
       "      <td>0.2</td>\n",
       "      <td>-0.1</td>\n",
       "      <td>0.2</td>\n",
       "      <td>0.0</td>\n",
       "      <td>0.1</td>\n",
       "    </tr>\n",
       "    <tr>\n",
       "      <th>4</th>\n",
       "      <td>a71c93ed-a929-4f59-8728-6639a6d31975</td>\n",
       "      <td>en</td>\n",
       "      <td>On my very last Nerve!\\nI am nothing and I hav...</td>\n",
       "      <td>F</td>\n",
       "      <td>25-34</td>\n",
       "      <td>0.2</td>\n",
       "      <td>0.0</td>\n",
       "      <td>0.0</td>\n",
       "      <td>0.3</td>\n",
       "      <td>0.4</td>\n",
       "    </tr>\n",
       "  </tbody>\n",
       "</table>\n",
       "</div>"
      ],
      "text/plain": [
       "                                 author lang  \\\n",
       "0  e5b59ccc-2053-4e8b-ba11-dfeeff92dd5d   en   \n",
       "1  ed970294-8f36-4008-a82e-183ac9abf6ac   en   \n",
       "2  4b05f4e0-2b12-48f1-94c0-c55b4caf534c   en   \n",
       "3  de7f0515-32b0-4b1e-9fb9-91a66cd434a3   en   \n",
       "4  a71c93ed-a929-4f59-8728-6639a6d31975   en   \n",
       "\n",
       "                                                text gender    age  ext  sta  \\\n",
       "0  @username @username ay friend, q te fumasteSSS...      F  35-49  0.0  0.2   \n",
       "1  “@username: @username \"you can't have your cak...      M  18-24  0.1  0.2   \n",
       "2  I should probably go to bed considering I have...      F  18-24  0.5  0.0   \n",
       "3  @username the sameee\\n@username Great!!\\nRT @u...      M  25-34  0.2 -0.1   \n",
       "4  On my very last Nerve!\\nI am nothing and I hav...      F  25-34  0.2  0.0   \n",
       "\n",
       "   agr  con  opn  \n",
       "0  0.2  0.3  0.2  \n",
       "1  0.2  0.0  0.1  \n",
       "2  0.3  0.3  0.4  \n",
       "3  0.2  0.0  0.1  \n",
       "4  0.0  0.3  0.4  "
      ]
     },
     "execution_count": 3,
     "metadata": {},
     "output_type": "execute_result"
    }
   ],
   "source": [
    "corpus = dataset.read_corpus()\n",
    "corpus.head()"
   ]
  },
  {
   "cell_type": "code",
   "execution_count": 4,
   "metadata": {},
   "outputs": [],
   "source": [
    "pipeline = Pipeline([('ngram', TfidfVectorizer()),\n",
    "                     ('clf', LinearSVR())])"
   ]
  },
  {
   "cell_type": "code",
   "execution_count": 17,
   "metadata": {},
   "outputs": [
    {
     "name": "stderr",
     "output_type": "stream",
     "text": [
      "INFO:root:running cv on pipeline for ext on en\n",
      "INFO:root:running cv on pipeline for sta on en\n",
      "INFO:root:running cv on pipeline for agr on en\n",
      "INFO:root:running cv on pipeline for con on en\n",
      "INFO:root:running cv on pipeline for opn on en\n",
      "INFO:root:running cv on pipeline for ext on es\n",
      "INFO:root:running cv on pipeline for sta on es\n",
      "INFO:root:running cv on pipeline for agr on es\n",
      "INFO:root:running cv on pipeline for con on es\n",
      "INFO:root:running cv on pipeline for opn on es\n",
      "INFO:root:running cv on pipeline for ext on it\n",
      "INFO:root:running cv on pipeline for sta on it\n",
      "INFO:root:running cv on pipeline for agr on it\n",
      "INFO:root:running cv on pipeline for con on it\n",
      "INFO:root:running cv on pipeline for opn on it\n",
      "INFO:root:running cv on pipeline for ext on nl\n",
      "INFO:root:running cv on pipeline for sta on nl\n",
      "INFO:root:running cv on pipeline for agr on nl\n",
      "INFO:root:running cv on pipeline for con on nl\n",
      "INFO:root:running cv on pipeline for opn on nl\n"
     ]
    }
   ],
   "source": [
    "scores = defaultdict(dict)\n",
    "for language, subset in corpus.groupby('lang'):\n",
    "    for trait in [subset.ext, subset.sta, subset.agr, subset.con, subset.opn]:\n",
    "        logging.info(\"running cv on pipeline for %s on %s\" %\n",
    "                     (trait.name, language))\n",
    "        predictions = cross_val_score(pipeline,\n",
    "                                      subset.text,  # X\n",
    "                                      trait,  # Y\n",
    "                                      cv=10,\n",
    "                                      verbose=False,\n",
    "                                      scoring='neg_mean_squared_error',\n",
    "                                      n_jobs=-1)\n",
    "        scores[language][trait.name] = (\"%0.2f (+/- %0.2f)\" % (predictions.mean(), predictions.std() * 2))\n"
   ]
  },
  {
   "cell_type": "code",
   "execution_count": 15,
   "metadata": {},
   "outputs": [
    {
     "data": {
      "text/plain": [
       "defaultdict(dict,\n",
       "            {'en': {'agr': '-0.02 (+/- 0.02)',\n",
       "              'con': '-0.02 (+/- 0.02)',\n",
       "              'ext': '-0.02 (+/- 0.02)',\n",
       "              'opn': '-0.02 (+/- 0.01)',\n",
       "              'sta': '-0.04 (+/- 0.04)'},\n",
       "             'es': {'agr': '-0.02 (+/- 0.02)',\n",
       "              'con': '-0.02 (+/- 0.03)',\n",
       "              'ext': '-0.02 (+/- 0.03)',\n",
       "              'opn': '-0.02 (+/- 0.03)',\n",
       "              'sta': '-0.03 (+/- 0.03)'},\n",
       "             'it': {'agr': '-0.02 (+/- 0.04)',\n",
       "              'con': '-0.01 (+/- 0.01)',\n",
       "              'ext': '-0.02 (+/- 0.05)',\n",
       "              'opn': '-0.02 (+/- 0.03)',\n",
       "              'sta': '-0.03 (+/- 0.04)'},\n",
       "             'nl': {'agr': '-0.03 (+/- 0.04)',\n",
       "              'con': '-0.01 (+/- 0.03)',\n",
       "              'ext': '-0.02 (+/- 0.03)',\n",
       "              'opn': '-0.01 (+/- 0.02)',\n",
       "              'sta': '-0.03 (+/- 0.06)'}})"
      ]
     },
     "execution_count": 15,
     "metadata": {},
     "output_type": "execute_result"
    }
   ],
   "source": [
    "scores"
   ]
  },
  {
   "cell_type": "code",
   "execution_count": 4,
   "metadata": {},
   "outputs": [
    {
     "data": {
      "text/html": [
       "<div>\n",
       "<table border=\"1\" class=\"dataframe\">\n",
       "  <thead>\n",
       "    <tr style=\"text-align: right;\">\n",
       "      <th></th>\n",
       "      <th>ext</th>\n",
       "      <th>sta</th>\n",
       "      <th>agr</th>\n",
       "      <th>con</th>\n",
       "      <th>opn</th>\n",
       "    </tr>\n",
       "  </thead>\n",
       "  <tbody>\n",
       "    <tr>\n",
       "      <th>ext</th>\n",
       "      <td>1.000000</td>\n",
       "      <td>0.214601</td>\n",
       "      <td>0.144430</td>\n",
       "      <td>0.133626</td>\n",
       "      <td>-0.010024</td>\n",
       "    </tr>\n",
       "    <tr>\n",
       "      <th>sta</th>\n",
       "      <td>0.214601</td>\n",
       "      <td>1.000000</td>\n",
       "      <td>0.345466</td>\n",
       "      <td>-0.018955</td>\n",
       "      <td>0.024044</td>\n",
       "    </tr>\n",
       "    <tr>\n",
       "      <th>agr</th>\n",
       "      <td>0.144430</td>\n",
       "      <td>0.345466</td>\n",
       "      <td>1.000000</td>\n",
       "      <td>-0.072996</td>\n",
       "      <td>-0.041911</td>\n",
       "    </tr>\n",
       "    <tr>\n",
       "      <th>con</th>\n",
       "      <td>0.133626</td>\n",
       "      <td>-0.018955</td>\n",
       "      <td>-0.072996</td>\n",
       "      <td>1.000000</td>\n",
       "      <td>-0.011676</td>\n",
       "    </tr>\n",
       "    <tr>\n",
       "      <th>opn</th>\n",
       "      <td>-0.010024</td>\n",
       "      <td>0.024044</td>\n",
       "      <td>-0.041911</td>\n",
       "      <td>-0.011676</td>\n",
       "      <td>1.000000</td>\n",
       "    </tr>\n",
       "  </tbody>\n",
       "</table>\n",
       "</div>"
      ],
      "text/plain": [
       "          ext       sta       agr       con       opn\n",
       "ext  1.000000  0.214601  0.144430  0.133626 -0.010024\n",
       "sta  0.214601  1.000000  0.345466 -0.018955  0.024044\n",
       "agr  0.144430  0.345466  1.000000 -0.072996 -0.041911\n",
       "con  0.133626 -0.018955 -0.072996  1.000000 -0.011676\n",
       "opn -0.010024  0.024044 -0.041911 -0.011676  1.000000"
      ]
     },
     "execution_count": 4,
     "metadata": {},
     "output_type": "execute_result"
    }
   ],
   "source": [
    "corpus[['ext', 'sta','agr','con','opn']].corr()"
   ]
  },
  {
   "cell_type": "markdown",
   "metadata": {},
   "source": [
    "Loss function\n",
    "\n",
    "$$L(\\theta) = \\frac{1}{n}\\sum_{i}^{n}(y_{s_{i}} - \\hat{y}_{s_{i}}) $$"
   ]
  },
  {
   "cell_type": "code",
   "execution_count": null,
   "metadata": {
    "collapsed": true
   },
   "outputs": [],
   "source": [
    "from keras import losses\n",
    "model.compile(loss=losses.mean_squared_error)"
   ]
  },
  {
   "cell_type": "markdown",
   "metadata": {},
   "source": [
    "# Evaluation method:\n",
    "\n",
    "cv RMSE_tweet\n",
    "\n",
    "cv RMSE_user\n"
   ]
  },
  {
   "cell_type": "markdown",
   "metadata": {},
   "source": []
  }
 ],
 "metadata": {
  "kernelspec": {
   "display_name": "venvltp",
   "language": "python",
   "name": "venvltp"
  },
  "language_info": {
   "codemirror_mode": {
    "name": "ipython",
    "version": 3
   },
   "file_extension": ".py",
   "mimetype": "text/x-python",
   "name": "python",
   "nbconvert_exporter": "python",
   "pygments_lexer": "ipython3",
   "version": "3.6.1"
  }
 },
 "nbformat": 4,
 "nbformat_minor": 2
}
